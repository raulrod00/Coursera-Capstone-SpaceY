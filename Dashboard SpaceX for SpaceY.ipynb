{
    "cells": [
        {
            "cell_type": "code",
            "execution_count": 1,
            "id": "5e5260ba-dea7-4820-acf1-e0368cea38cb",
            "metadata": {},
            "outputs": [],
            "source": "### If you need teh files again\n#!wget \"https://cf-courses-data.s3.us.cloud-object-storage.appdomain.cloud/IBM-DS0321EN-SkillsNetwork/datasets/spacex_launch_dash.csv\"\n#!wget \"https://cf-courses-data.s3.us.cloud-object-storage.appdomain.cloud/IBM-DS0321EN-SkillsNetwork/labs/module_3/spacex_dash_app.py\""
        },
        {
            "cell_type": "code",
            "execution_count": 2,
            "id": "ca2eae51-ee58-4e13-837f-56cc3571c2cf",
            "metadata": {},
            "outputs": [],
            "source": "# Import required libraries\nimport pandas as pd\nimport jupyter_dash\nfrom dash import html\nfrom dash import dcc\nfrom dash.dependencies import Input, Output\nimport plotly.express as px"
        },
        {
            "cell_type": "code",
            "execution_count": 3,
            "id": "31eb9caa-4d14-480f-917d-ff5d01d857f2",
            "metadata": {},
            "outputs": [],
            "source": "# Read the airline data into pandas dataframe\nspacex_df = pd.read_csv(\"spacex_launch_dash.csv\")\nmax_payload = spacex_df['Payload Mass (kg)'].max()\nmin_payload = spacex_df['Payload Mass (kg)'].min()"
        },
        {
            "cell_type": "code",
            "execution_count": 4,
            "id": "65dd0990-3261-4bd6-a73a-3fd462677172",
            "metadata": {},
            "outputs": [],
            "source": "# Create a dash application\napp = jupyter_dash.JupyterDash(__name__)"
        },
        {
            "cell_type": "code",
            "execution_count": 5,
            "id": "d2794be0-c59a-4ad8-8189-9af98ca24160",
            "metadata": {},
            "outputs": [],
            "source": "app.layout = html.Div(children=[html.H1('SpaceX Launch Records Dashboard',\n                                        style={'textAlign': 'center', 'color': '#503D36',\n                                               'font-size': 40}),\n                                # TASK 1: Add a dropdown list to enable Launch Site selection\n                                # The default select value is for ALL sites\n                                # dcc.Dropdown(id='site-dropdown',...)\n                                dcc.Dropdown(id = 'site-dropdown',\n                                             options = [{'label': 'All Sites', 'value':'ALL'},\n                                                        {'label': 'CCAFS LC-40', 'value':'CCAFS LC-40'},\n                                                        {'label': 'CCAFS SLC-40', 'value':'CCAFS SLC-40'},\n                                                        {'label': 'KSC LC-39A', 'value':'KSC LC-39A'},\n                                                        {'label': 'CCAFS SLC-40', 'value':'CCAFS SLC-40'},],\n                                             value = 'ALL',\n                                             placeholder = 'Select a Launch Site Here',\n                                             searchable = True),\n                                html.Br(),\n\n                                # TASK 2: Add a pie chart to show the total successful launches count for all sites\n                                # If a specific launch site was selected, show the Success vs. Failed counts for the site\n                                html.Div(dcc.Graph(id='success-pie-chart')),\n                                html.Br(),\n\n                                html.P(\"Payload range (Kg):\"),\n                                # TASK 3: Add a slider to select payload range\n                                #dcc.RangeSlider(id='payload-slider',...)\n                                dcc.RangeSlider(id = 'payload-slider',\n                                                min = 0,\n                                                max = 10000,\n                                                step = 1000,\n                                                marks = {0 : '0',\n                                                         1000: '1000',\n                                                         2000: '2000',\n                                                         3000: '3000',\n                                                         4000: '4000',\n                                                         5000: '5000',\n                                                         6000: '6000',\n                                                         7000: '7000',\n                                                         8000: '8000',\n                                                         9000: '9000',\n                                                         10000:'10000',},\n                                                value = [min_payload, max_payload]),\n\n                                # TASK 4: Add a scatter chart to show the correlation between payload and launch success\n                                html.Div(dcc.Graph(id='success-payload-scatter-chart')),\n                                ])"
        },
        {
            "cell_type": "code",
            "execution_count": 6,
            "id": "5e4d04b9-aa68-4cae-9949-3c8dcd1640cd",
            "metadata": {},
            "outputs": [],
            "source": "# Function decorator to specify function input and output\n@app.callback(Output(component_id='success-pie-chart', component_property = 'figure'),\n              Input(component_id='site-dropdown', component_property = 'value'))\ndef get_pie_chart(entered_site):\n    if entered_site == 'ALL':\n        fig = px.pie(spacex_df, \n                     values = 'class',\n                     names = 'Launch Site',\n                     title = 'Total Successful Launches by Site')\n        return fig\n    else:\n        filtered_df = spacex_df[spacex_df['Launch Site'] == entered_site]\n        pct_succ = spacex_df[spacex_df['Launch Site'] == entered_site].sum()['class']/spacex_df[spacex_df['Launch Site'] == entered_site].shape[0] * 100\n        pct_fail = 100-pct_succ\n        test = pd.DataFrame(data = {'Rate': ['Success Rate', 'Failure Rate'],'Number': [pct_succ, pct_fail]})\n        fig = px.pie(test, \n               values = 'Number',\n               names = 'Rate',\n               title = 'Total Successful Launches at '  + entered_site)\n        return fig\n    "
        },
        {
            "cell_type": "code",
            "execution_count": 7,
            "id": "c21a4bc5-efd7-43ed-af8a-f57ce44addc7",
            "metadata": {},
            "outputs": [],
            "source": "# Function decorator to specify function input and output\n@app.callback(Output(component_id='success-payload-scatter-chart', component_property = 'figure'),\n              Input(component_id='site-dropdown', component_property = 'value'),\n              Input(component_id='payload-slider', component_property = 'value'))\ndef get_scatter_chart(entered_site, payload_mass):\n    if entered_site == 'ALL':\n        filtered_df = spacex_df[(spacex_df['Payload Mass (kg)'] > payload_mass[0]) & (spacex_df['Payload Mass (kg)'] < payload_mass[1])]\n        fig = px.scatter(filtered_df, \n                         x = 'Payload Mass (kg)',\n                         y = 'class',\n                         color = 'Booster Version Category',\n                         title = 'Correlation Between Payload and Success for All Sites')\n        return fig\n    else:\n        filtered_df = spacex_df[(spacex_df['Launch Site'] == entered_site) & (spacex_df['Payload Mass (kg)'] > payload_mass[0]) & (spacex_df['Payload Mass (kg)'] < payload_mass[1])]\n        fig = px.scatter(filtered_df, \n                         x = 'Payload Mass (kg)',\n                         y = 'class',\n                         color = 'Booster Version Category',\n                         title = 'Correlation Between Payload and Success for ' + entered_site)\n        return fig"
        },
        {
            "cell_type": "code",
            "execution_count": 9,
            "id": "c883db7c-8d71-44ab-8051-675f015f7413",
            "metadata": {},
            "outputs": [
                {
                    "name": "stdout",
                    "output_type": "stream",
                    "text": "Dash app running on http://127.0.0.1:8050/\n"
                }
            ],
            "source": "# Run the app\nif __name__ == '__main__':\n    app.run_server()"
        }
    ],
    "metadata": {
        "kernelspec": {
            "display_name": "Python 3.8",
            "language": "python",
            "name": "python3"
        },
        "language_info": {
            "codemirror_mode": {
                "name": "ipython",
                "version": 3
            },
            "file_extension": ".py",
            "mimetype": "text/x-python",
            "name": "python",
            "nbconvert_exporter": "python",
            "pygments_lexer": "ipython3",
            "version": "3.8.12"
        }
    },
    "nbformat": 4,
    "nbformat_minor": 5
}