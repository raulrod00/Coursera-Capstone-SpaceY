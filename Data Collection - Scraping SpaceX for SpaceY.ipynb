{
    "cells": [
        {
            "cell_type": "markdown",
            "metadata": {},
            "source": "<center>\n    <img src=\"https://gitlab.com/ibm/skills-network/courses/placeholder101/-/raw/master/labs/module%201/images/IDSNlogo.png\" width=\"300\" alt=\"cognitiveclass.ai logo\"  />\n</center>\n"
        },
        {
            "cell_type": "markdown",
            "metadata": {},
            "source": "# **Space X  Falcon 9 First Stage Landing Prediction**\n"
        },
        {
            "cell_type": "markdown",
            "metadata": {},
            "source": "## Web scraping Falcon 9 and Falcon Heavy Launches Records from Wikipedia\n"
        },
        {
            "cell_type": "markdown",
            "metadata": {},
            "source": "Estimated time needed: **40** minutes\n"
        },
        {
            "cell_type": "markdown",
            "metadata": {},
            "source": "In this lab, you will be performing web scraping to collect Falcon 9 historical launch records from a Wikipedia page titled `List of Falcon 9 and Falcon Heavy launches`\n\n[https://en.wikipedia.org/wiki/List_of_Falcon\\_9\\_and_Falcon_Heavy_launches](https://en.wikipedia.org/wiki/List_of_Falcon\\_9\\_and_Falcon_Heavy_launches?utm_medium=Exinfluencer&utm_source=Exinfluencer&utm_content=000026UJ&utm_term=10006555&utm_id=NA-SkillsNetwork-Channel-SkillsNetworkCoursesIBMDS0321ENSkillsNetwork26802033-2021-01-01)\n"
        },
        {
            "cell_type": "markdown",
            "metadata": {},
            "source": "![](https://cf-courses-data.s3.us.cloud-object-storage.appdomain.cloud/IBM-DS0321EN-SkillsNetwork/labs/module\\_1\\_L2/images/Falcon9\\_rocket_family.svg)\n"
        },
        {
            "cell_type": "markdown",
            "metadata": {},
            "source": "Falcon 9 first stage will land successfully\n"
        },
        {
            "cell_type": "markdown",
            "metadata": {},
            "source": "![](https://cf-courses-data.s3.us.cloud-object-storage.appdomain.cloud/IBMDeveloperSkillsNetwork-DS0701EN-SkillsNetwork/api/Images/landing\\_1.gif)\n"
        },
        {
            "cell_type": "markdown",
            "metadata": {},
            "source": "Several examples of an unsuccessful landing are shown here:\n"
        },
        {
            "cell_type": "markdown",
            "metadata": {},
            "source": "![](https://cf-courses-data.s3.us.cloud-object-storage.appdomain.cloud/IBMDeveloperSkillsNetwork-DS0701EN-SkillsNetwork/api/Images/crash.gif)\n"
        },
        {
            "cell_type": "markdown",
            "metadata": {},
            "source": "More specifically, the launch records are stored in a HTML table shown below:\n"
        },
        {
            "cell_type": "markdown",
            "metadata": {},
            "source": "![](https://cf-courses-data.s3.us.cloud-object-storage.appdomain.cloud/IBM-DS0321EN-SkillsNetwork/labs/module\\_1\\_L2/images/falcon9-launches-wiki.png)\n"
        },
        {
            "cell_type": "markdown",
            "metadata": {},
            "source": "## Objectives\n\nWeb scrap Falcon 9 launch records with `BeautifulSoup`:\n\n*   Extract a Falcon 9 launch records HTML table from Wikipedia\n*   Parse the table and convert it into a Pandas data frame\n"
        },
        {
            "cell_type": "markdown",
            "metadata": {},
            "source": "First let's import required packages for this lab\n"
        },
        {
            "cell_type": "code",
            "execution_count": 1,
            "metadata": {},
            "outputs": [
                {
                    "name": "stdout",
                    "output_type": "stream",
                    "text": "Requirement already satisfied: beautifulsoup4 in /opt/conda/envs/Python-3.8-main/lib/python3.8/site-packages (4.9.3)\nRequirement already satisfied: soupsieve>1.2 in /opt/conda/envs/Python-3.8-main/lib/python3.8/site-packages (from beautifulsoup4) (2.2.1)\nRequirement already satisfied: requests in /opt/conda/envs/Python-3.8-main/lib/python3.8/site-packages (2.25.1)\nRequirement already satisfied: certifi>=2017.4.17 in /opt/conda/envs/Python-3.8-main/lib/python3.8/site-packages (from requests) (2021.10.8)\nRequirement already satisfied: chardet<5,>=3.0.2 in /opt/conda/envs/Python-3.8-main/lib/python3.8/site-packages (from requests) (3.0.4)\nRequirement already satisfied: idna<3,>=2.5 in /opt/conda/envs/Python-3.8-main/lib/python3.8/site-packages (from requests) (2.8)\nRequirement already satisfied: urllib3<1.27,>=1.21.1 in /opt/conda/envs/Python-3.8-main/lib/python3.8/site-packages (from requests) (1.26.6)\n"
                }
            ],
            "source": "!pip3 install beautifulsoup4\n!pip3 install requests"
        },
        {
            "cell_type": "code",
            "execution_count": 2,
            "metadata": {},
            "outputs": [],
            "source": "import sys\n\nimport requests\nfrom bs4 import BeautifulSoup\nimport re\nimport unicodedata\nimport pandas as pd"
        },
        {
            "cell_type": "markdown",
            "metadata": {},
            "source": "and we will provide some helper functions for you to process web scraped HTML table\n"
        },
        {
            "cell_type": "code",
            "execution_count": 11,
            "metadata": {},
            "outputs": [],
            "source": "def date_time(table_cells):\n    \"\"\"\n    This function returns the data and time from the HTML  table cell\n    Input: the  element of a table data cell extracts extra row\n    \"\"\"\n    return [data_time.strip() for data_time in list(table_cells.strings)][0:2]\n\ndef booster_version(table_cells):\n    \"\"\"\n    This function returns the booster version from the HTML  table cell \n    Input: the  element of a table data cell extracts extra row\n    \"\"\"\n    out=''.join([booster_version for i,booster_version in enumerate( table_cells.strings) if i%2==0][0:-1])\n    return out\n\ndef landing_status(table_cells):\n    \"\"\"\n    This function returns the landing status from the HTML table cell \n    Input: the  element of a table data cell extracts extra row\n    \"\"\"\n    out=[i for i in table_cells.strings][0]\n    return out\n\n\ndef get_mass(table_cells):\n    mass=unicodedata.normalize(\"NFKD\", table_cells.text).strip()\n    if mass:\n        mass.find(\"kg\")\n        new_mass=mass[0:mass.find(\"kg\")+2]\n    else:\n        new_mass=0\n    return new_mass\n\n\ndef extract_column_from_header(row):\n    \"\"\"\n    This function returns the landing status from the HTML table cell \n    Input: the  element of a table data cell extracts extra row\n    \"\"\"\n    if (row.br):\n        row.br.extract()\n    if row.a:\n        row.a.extract()\n    if row.sup:\n        row.sup.extract()\n        \n    column_name = ' '.join(row.contents)\n    \n    # Filter the digit and empty names\n    if not(column_name.strip().isdigit()):\n        column_name = column_name.strip()\n        return column_name    \n"
        },
        {
            "cell_type": "markdown",
            "metadata": {},
            "source": "To keep the lab tasks consistent, you will be asked to scrape the data from a snapshot of the  `List of Falcon 9 and Falcon Heavy launches` Wikipage updated on\n`9th June 2021`\n"
        },
        {
            "cell_type": "code",
            "execution_count": 4,
            "metadata": {},
            "outputs": [],
            "source": "static_url = \"https://en.wikipedia.org/w/index.php?title=List_of_Falcon_9_and_Falcon_Heavy_launches&oldid=1027686922\""
        },
        {
            "cell_type": "markdown",
            "metadata": {},
            "source": "Next, request the HTML page from the above URL and get a `response` object\n"
        },
        {
            "cell_type": "markdown",
            "metadata": {},
            "source": "### TASK 1: Request the Falcon9 Launch Wiki page from its URL\n"
        },
        {
            "cell_type": "markdown",
            "metadata": {},
            "source": "First, let's perform an HTTP GET method to request the Falcon9 Launch HTML page, as an HTTP response.\n"
        },
        {
            "cell_type": "code",
            "execution_count": 5,
            "metadata": {},
            "outputs": [],
            "source": "# use requests.get() method with the provided static_url\ndat = requests.get(static_url).text\n# assign the response to a object"
        },
        {
            "cell_type": "markdown",
            "metadata": {},
            "source": "Create a `BeautifulSoup` object from the HTML `response`\n"
        },
        {
            "cell_type": "code",
            "execution_count": 6,
            "metadata": {},
            "outputs": [],
            "source": "# Use BeautifulSoup() to create a BeautifulSoup object from a response text content\nsoupie = BeautifulSoup(dat, 'html5lib')"
        },
        {
            "cell_type": "markdown",
            "metadata": {},
            "source": "Print the page title to verify if the `BeautifulSoup` object was created properly\n"
        },
        {
            "cell_type": "code",
            "execution_count": 8,
            "metadata": {},
            "outputs": [
                {
                    "name": "stdout",
                    "output_type": "stream",
                    "text": "<title>List of Falcon 9 and Falcon Heavy launches - Wikipedia</title>\n"
                }
            ],
            "source": "# Use soup.title attribute\nprint(soupie.title)"
        },
        {
            "cell_type": "markdown",
            "metadata": {},
            "source": "### TASK 2: Extract all column/variable names from the HTML table header\n"
        },
        {
            "cell_type": "markdown",
            "metadata": {},
            "source": "Next, we want to collect all relevant column names from the HTML table header\n"
        },
        {
            "cell_type": "markdown",
            "metadata": {},
            "source": "Let's try to find all tables on the wiki page first. If you need to refresh your memory about `BeautifulSoup`, please check the external reference link towards the end of this lab\n"
        },
        {
            "cell_type": "code",
            "execution_count": 9,
            "metadata": {},
            "outputs": [],
            "source": "# Use the find_all function in the BeautifulSoup object, with element type `table`\n# Assign the result to a list called `html_tables`\nhtml_tables = soupie.find_all('table')"
        },
        {
            "cell_type": "markdown",
            "metadata": {},
            "source": "Starting from the third table is our target table contains the actual launch records.\n"
        },
        {
            "cell_type": "code",
            "execution_count": 10,
            "metadata": {},
            "outputs": [
                {
                    "name": "stdout",
                    "output_type": "stream",
                    "text": "<table class=\"wikitable plainrowheaders collapsible\" style=\"width: 100%;\">\n<tbody><tr>\n<th scope=\"col\">Flight No.\n</th>\n<th scope=\"col\">Date and<br/>time (<a href=\"/wiki/Coordinated_Universal_Time\" title=\"Coordinated Universal Time\">UTC</a>)\n</th>\n<th scope=\"col\"><a href=\"/wiki/List_of_Falcon_9_first-stage_boosters\" title=\"List of Falcon 9 first-stage boosters\">Version,<br/>Booster</a> <sup class=\"reference\" id=\"cite_ref-booster_11-0\"><a href=\"#cite_note-booster-11\">[b]</a></sup>\n</th>\n<th scope=\"col\">Launch site\n</th>\n<th scope=\"col\">Payload<sup class=\"reference\" id=\"cite_ref-Dragon_12-0\"><a href=\"#cite_note-Dragon-12\">[c]</a></sup>\n</th>\n<th scope=\"col\">Payload mass\n</th>\n<th scope=\"col\">Orbit\n</th>\n<th scope=\"col\">Customer\n</th>\n<th scope=\"col\">Launch<br/>outcome\n</th>\n<th scope=\"col\"><a href=\"/wiki/Falcon_9_first-stage_landing_tests\" title=\"Falcon 9 first-stage landing tests\">Booster<br/>landing</a>\n</th></tr>\n<tr>\n<th rowspan=\"2\" scope=\"row\" style=\"text-align:center;\">1\n</th>\n<td>4 June 2010,<br/>18:45\n</td>\n<td><a href=\"/wiki/Falcon_9_v1.0\" title=\"Falcon 9 v1.0\">F9 v1.0</a><sup class=\"reference\" id=\"cite_ref-MuskMay2012_13-0\"><a href=\"#cite_note-MuskMay2012-13\">[7]</a></sup><br/>B0003.1<sup class=\"reference\" id=\"cite_ref-block_numbers_14-0\"><a href=\"#cite_note-block_numbers-14\">[8]</a></sup>\n</td>\n<td><a href=\"/wiki/Cape_Canaveral_Space_Force_Station\" title=\"Cape Canaveral Space Force Station\">CCAFS</a>,<br/><a href=\"/wiki/Cape_Canaveral_Space_Launch_Complex_40\" title=\"Cape Canaveral Space Launch Complex 40\">SLC-40</a>\n</td>\n<td><a href=\"/wiki/Dragon_Spacecraft_Qualification_Unit\" title=\"Dragon Spacecraft Qualification Unit\">Dragon Spacecraft Qualification Unit</a>\n</td>\n<td>\n</td>\n<td><a href=\"/wiki/Low_Earth_orbit\" title=\"Low Earth orbit\">LEO</a>\n</td>\n<td><a href=\"/wiki/SpaceX\" title=\"SpaceX\">SpaceX</a>\n</td>\n<td class=\"table-success\" style=\"background: LightGreen; color: black; vertical-align: middle; text-align: center;\">Success\n</td>\n<td class=\"table-failure\" style=\"background: #ffbbbb; color: black; vertical-align: middle; text-align: center;\">Failure<sup class=\"reference\" id=\"cite_ref-ns20110930_15-0\"><a href=\"#cite_note-ns20110930-15\">[9]</a></sup><sup class=\"reference\" id=\"cite_ref-16\"><a href=\"#cite_note-16\">[10]</a></sup><br/><small>(parachute)</small>\n</td></tr>\n<tr>\n<td colspan=\"9\">First flight of Falcon 9 v1.0.<sup class=\"reference\" id=\"cite_ref-sfn20100604_17-0\"><a href=\"#cite_note-sfn20100604-17\">[11]</a></sup> Used a boilerplate version of Dragon capsule which was not designed to separate from the second stage.<small>(<a href=\"#First_flight_of_Falcon_9\">more details below</a>)</small> Attempted to recover the first stage by parachuting it into the ocean, but it burned up on reentry, before the parachutes even deployed.<sup class=\"reference\" id=\"cite_ref-parachute_18-0\"><a href=\"#cite_note-parachute-18\">[12]</a></sup>\n</td></tr>\n<tr>\n<th rowspan=\"2\" scope=\"row\" style=\"text-align:center;\">2\n</th>\n<td>8 December 2010,<br/>15:43<sup class=\"reference\" id=\"cite_ref-spaceflightnow_Clark_Launch_Report_19-0\"><a href=\"#cite_note-spaceflightnow_Clark_Launch_Report-19\">[13]</a></sup>\n</td>\n<td><a href=\"/wiki/Falcon_9_v1.0\" title=\"Falcon 9 v1.0\">F9 v1.0</a><sup class=\"reference\" id=\"cite_ref-MuskMay2012_13-1\"><a href=\"#cite_note-MuskMay2012-13\">[7]</a></sup><br/>B0004.1<sup class=\"reference\" id=\"cite_ref-block_numbers_14-1\"><a href=\"#cite_note-block_numbers-14\">[8]</a></sup>\n</td>\n<td><a href=\"/wiki/Cape_Canaveral_Space_Force_Station\" title=\"Cape Canaveral Space Force Station\">CCAFS</a>,<br/><a href=\"/wiki/Cape_Canaveral_Space_Launch_Complex_40\" title=\"Cape Canaveral Space Launch Complex 40\">SLC-40</a>\n</td>\n<td><a href=\"/wiki/SpaceX_Dragon\" title=\"SpaceX Dragon\">Dragon</a> <a class=\"mw-redirect\" href=\"/wiki/COTS_Demo_Flight_1\" title=\"COTS Demo Flight 1\">demo flight C1</a><br/>(Dragon C101)\n</td>\n<td>\n</td>\n<td><a href=\"/wiki/Low_Earth_orbit\" title=\"Low Earth orbit\">LEO</a> (<a href=\"/wiki/International_Space_Station\" title=\"International Space Station\">ISS</a>)\n</td>\n<td><div class=\"plainlist\">\n<ul><li><a href=\"/wiki/NASA\" title=\"NASA\">NASA</a> (<a href=\"/wiki/Commercial_Orbital_Transportation_Services\" title=\"Commercial Orbital Transportation Services\">COTS</a>)</li>\n<li><a href=\"/wiki/National_Reconnaissance_Office\" title=\"National Reconnaissance Office\">NRO</a></li></ul>\n</div>\n</td>\n<td class=\"table-success\" style=\"background: LightGreen; color: black; vertical-align: middle; text-align: center;\">Success<sup class=\"reference\" id=\"cite_ref-ns20110930_15-1\"><a href=\"#cite_note-ns20110930-15\">[9]</a></sup>\n</td>\n<td class=\"table-failure\" style=\"background: #ffbbbb; color: black; vertical-align: middle; text-align: center;\">Failure<sup class=\"reference\" id=\"cite_ref-ns20110930_15-2\"><a href=\"#cite_note-ns20110930-15\">[9]</a></sup><sup class=\"reference\" id=\"cite_ref-20\"><a href=\"#cite_note-20\">[14]</a></sup><br/><small>(parachute)</small>\n</td></tr>\n<tr>\n<td colspan=\"9\">Maiden flight of <a class=\"mw-redirect\" href=\"/wiki/Dragon_capsule\" title=\"Dragon capsule\">Dragon capsule</a>, consisting of over 3 hours of testing thruster maneuvering and reentry.<sup class=\"reference\" id=\"cite_ref-spaceflightnow_Clark_unleashing_Dragon_21-0\"><a href=\"#cite_note-spaceflightnow_Clark_unleashing_Dragon-21\">[15]</a></sup> Attempted to recover the first stage by parachuting it into the ocean, but it disintegrated upon reentry, before the parachutes were deployed.<sup class=\"reference\" id=\"cite_ref-parachute_18-1\"><a href=\"#cite_note-parachute-18\">[12]</a></sup> <small>(<a href=\"#COTS_demo_missions\">more details below</a>)</small> It also included two <a href=\"/wiki/CubeSat\" title=\"CubeSat\">CubeSats</a>,<sup class=\"reference\" id=\"cite_ref-NRO_Taps_Boeing_for_Next_Batch_of_CubeSats_22-0\"><a href=\"#cite_note-NRO_Taps_Boeing_for_Next_Batch_of_CubeSats-22\">[16]</a></sup> and a wheel of <a href=\"/wiki/Brou%C3%A8re\" title=\"Brou\u00e8re\">Brou\u00e8re</a> cheese.\n</td></tr>\n<tr>\n<th rowspan=\"2\" scope=\"row\" style=\"text-align:center;\">3\n</th>\n<td>22 May 2012,<br/>07:44<sup class=\"reference\" id=\"cite_ref-BBC_new_era_23-0\"><a href=\"#cite_note-BBC_new_era-23\">[17]</a></sup>\n</td>\n<td><a href=\"/wiki/Falcon_9_v1.0\" title=\"Falcon 9 v1.0\">F9 v1.0</a><sup class=\"reference\" id=\"cite_ref-MuskMay2012_13-2\"><a href=\"#cite_note-MuskMay2012-13\">[7]</a></sup><br/>B0005.1<sup class=\"reference\" id=\"cite_ref-block_numbers_14-2\"><a href=\"#cite_note-block_numbers-14\">[8]</a></sup>\n</td>\n<td><a href=\"/wiki/Cape_Canaveral_Space_Force_Station\" title=\"Cape Canaveral Space Force Station\">CCAFS</a>,<br/><a href=\"/wiki/Cape_Canaveral_Space_Launch_Complex_40\" title=\"Cape Canaveral Space Launch Complex 40\">SLC-40</a>\n</td>\n<td><a href=\"/wiki/SpaceX_Dragon\" title=\"SpaceX Dragon\">Dragon</a> <a class=\"mw-redirect\" href=\"/wiki/Dragon_C2%2B\" title=\"Dragon C2+\">demo flight C2+</a><sup class=\"reference\" id=\"cite_ref-C2_24-0\"><a href=\"#cite_note-C2-24\">[18]</a></sup><br/>(Dragon C102)\n</td>\n<td>525\u00a0kg (1,157\u00a0lb)<sup class=\"reference\" id=\"cite_ref-25\"><a href=\"#cite_note-25\">[19]</a></sup>\n</td>\n<td><a href=\"/wiki/Low_Earth_orbit\" title=\"Low Earth orbit\">LEO</a> (<a href=\"/wiki/International_Space_Station\" title=\"International Space Station\">ISS</a>)\n</td>\n<td><a href=\"/wiki/NASA\" title=\"NASA\">NASA</a> (<a href=\"/wiki/Commercial_Orbital_Transportation_Services\" title=\"Commercial Orbital Transportation Services\">COTS</a>)\n</td>\n<td class=\"table-success\" style=\"background: LightGreen; color: black; vertical-align: middle; text-align: center;\">Success<sup class=\"reference\" id=\"cite_ref-26\"><a href=\"#cite_note-26\">[20]</a></sup>\n</td>\n<td class=\"table-noAttempt\" style=\"background: #ececec; color: black; vertical-align: middle; white-space: nowrap; text-align: center;\">No attempt\n</td></tr>\n<tr>\n<td colspan=\"9\">Dragon spacecraft demonstrated a series of tests before it was allowed to approach the <a href=\"/wiki/International_Space_Station\" title=\"International Space Station\">International Space Station</a>. Two days later, it became the first commercial spacecraft to board the ISS.<sup class=\"reference\" id=\"cite_ref-BBC_new_era_23-1\"><a href=\"#cite_note-BBC_new_era-23\">[17]</a></sup> <small>(<a href=\"#COTS_demo_missions\">more details below</a>)</small>\n</td></tr>\n<tr>\n<th rowspan=\"3\" scope=\"row\" style=\"text-align:center;\">4\n</th>\n<td rowspan=\"2\">8 October 2012,<br/>00:35<sup class=\"reference\" id=\"cite_ref-SFN_LLog_27-0\"><a href=\"#cite_note-SFN_LLog-27\">[21]</a></sup>\n</td>\n<td rowspan=\"2\"><a href=\"/wiki/Falcon_9_v1.0\" title=\"Falcon 9 v1.0\">F9 v1.0</a><sup class=\"reference\" id=\"cite_ref-MuskMay2012_13-3\"><a href=\"#cite_note-MuskMay2012-13\">[7]</a></sup><br/>B0006.1<sup class=\"reference\" id=\"cite_ref-block_numbers_14-3\"><a href=\"#cite_note-block_numbers-14\">[8]</a></sup>\n</td>\n<td rowspan=\"2\"><a href=\"/wiki/Cape_Canaveral_Space_Force_Station\" title=\"Cape Canaveral Space Force Station\">CCAFS</a>,<br/><a href=\"/wiki/Cape_Canaveral_Space_Launch_Complex_40\" title=\"Cape Canaveral Space Launch Complex 40\">SLC-40</a>\n</td>\n<td><a href=\"/wiki/SpaceX_CRS-1\" title=\"SpaceX CRS-1\">SpaceX CRS-1</a><sup class=\"reference\" id=\"cite_ref-sxManifest20120925_28-0\"><a href=\"#cite_note-sxManifest20120925-28\">[22]</a></sup><br/>(Dragon C103)\n</td>\n<td>4,700\u00a0kg (10,400\u00a0lb)\n</td>\n<td><a href=\"/wiki/Low_Earth_orbit\" title=\"Low Earth orbit\">LEO</a> (<a href=\"/wiki/International_Space_Station\" title=\"International Space Station\">ISS</a>)\n</td>\n<td><a href=\"/wiki/NASA\" title=\"NASA\">NASA</a> (<a href=\"/wiki/Commercial_Resupply_Services\" title=\"Commercial Resupply Services\">CRS</a>)\n</td>\n<td class=\"table-success\" style=\"background: LightGreen; color: black; vertical-align: middle; text-align: center;\">Success\n</td>\n<td rowspan=\"2\" style=\"background:#ececec; text-align:center;\"><span class=\"nowrap\">No attempt</span>\n</td></tr>\n<tr>\n<td><a href=\"/wiki/Orbcomm_(satellite)\" title=\"Orbcomm (satellite)\">Orbcomm-OG2</a><sup class=\"reference\" id=\"cite_ref-Orbcomm_29-0\"><a href=\"#cite_note-Orbcomm-29\">[23]</a></sup>\n</td>\n<td>172\u00a0kg (379\u00a0lb)<sup class=\"reference\" id=\"cite_ref-gunter-og2_30-0\"><a href=\"#cite_note-gunter-og2-30\">[24]</a></sup>\n</td>\n<td><a href=\"/wiki/Low_Earth_orbit\" title=\"Low Earth orbit\">LEO</a>\n</td>\n<td><a href=\"/wiki/Orbcomm\" title=\"Orbcomm\">Orbcomm</a>\n</td>\n<td class=\"table-partial\" style=\"background: wheat; color: black; vertical-align: middle; text-align: center;\">Partial failure<sup class=\"reference\" id=\"cite_ref-nyt-20121030_31-0\"><a href=\"#cite_note-nyt-20121030-31\">[25]</a></sup>\n</td></tr>\n<tr>\n<td colspan=\"9\">CRS-1 was successful, but the <a href=\"/wiki/Secondary_payload\" title=\"Secondary payload\">secondary payload</a> was inserted into an abnormally low orbit and subsequently lost. This was due to one of the nine <a href=\"/wiki/SpaceX_Merlin\" title=\"SpaceX Merlin\">Merlin engines</a> shutting down during the launch, and NASA declining a second reignition, as per <a href=\"/wiki/International_Space_Station\" title=\"International Space Station\">ISS</a> visiting vehicle safety rules, the primary payload owner is contractually allowed to decline a second reignition. NASA stated that this was because SpaceX could not guarantee a high enough likelihood of the second stage completing the second burn successfully which was required to avoid any risk of secondary payload's collision with the ISS.<sup class=\"reference\" id=\"cite_ref-OrbcommTotalLoss_32-0\"><a href=\"#cite_note-OrbcommTotalLoss-32\">[26]</a></sup><sup class=\"reference\" id=\"cite_ref-sn20121011_33-0\"><a href=\"#cite_note-sn20121011-33\">[27]</a></sup><sup class=\"reference\" id=\"cite_ref-34\"><a href=\"#cite_note-34\">[28]</a></sup>\n</td></tr>\n<tr>\n<th rowspan=\"2\" scope=\"row\" style=\"text-align:center;\">5\n</th>\n<td>1 March 2013,<br/>15:10\n</td>\n<td><a href=\"/wiki/Falcon_9_v1.0\" title=\"Falcon 9 v1.0\">F9 v1.0</a><sup class=\"reference\" id=\"cite_ref-MuskMay2012_13-4\"><a href=\"#cite_note-MuskMay2012-13\">[7]</a></sup><br/>B0007.1<sup class=\"reference\" id=\"cite_ref-block_numbers_14-4\"><a href=\"#cite_note-block_numbers-14\">[8]</a></sup>\n</td>\n<td><a href=\"/wiki/Cape_Canaveral_Space_Force_Station\" title=\"Cape Canaveral Space Force Station\">CCAFS</a>,<br/><a href=\"/wiki/Cape_Canaveral_Space_Launch_Complex_40\" title=\"Cape Canaveral Space Launch Complex 40\">SLC-40</a>\n</td>\n<td><a href=\"/wiki/SpaceX_CRS-2\" title=\"SpaceX CRS-2\">SpaceX CRS-2</a><sup class=\"reference\" id=\"cite_ref-sxManifest20120925_28-1\"><a href=\"#cite_note-sxManifest20120925-28\">[22]</a></sup><br/>(Dragon C104)\n</td>\n<td>4,877\u00a0kg (10,752\u00a0lb)\n</td>\n<td><a href=\"/wiki/Low_Earth_orbit\" title=\"Low Earth orbit\">LEO</a> (<a class=\"mw-redirect\" href=\"/wiki/ISS\" title=\"ISS\">ISS</a>)\n</td>\n<td><a href=\"/wiki/NASA\" title=\"NASA\">NASA</a> (<a href=\"/wiki/Commercial_Resupply_Services\" title=\"Commercial Resupply Services\">CRS</a>)\n</td>\n<td class=\"table-success\" style=\"background: LightGreen; color: black; vertical-align: middle; text-align: center;\">Success\n</td>\n<td class=\"table-noAttempt\" style=\"background: #ececec; color: black; vertical-align: middle; white-space: nowrap; text-align: center;\">No attempt\n</td></tr>\n<tr>\n<td colspan=\"9\">Last launch of the original Falcon 9 v1.0 <a href=\"/wiki/Launch_vehicle\" title=\"Launch vehicle\">launch vehicle</a>, first use of the unpressurized trunk section of Dragon.<sup class=\"reference\" id=\"cite_ref-sxf9_20110321_35-0\"><a href=\"#cite_note-sxf9_20110321-35\">[29]</a></sup>\n</td></tr>\n<tr>\n<th rowspan=\"2\" scope=\"row\" style=\"text-align:center;\">6\n</th>\n<td>29 September 2013,<br/>16:00<sup class=\"reference\" id=\"cite_ref-pa20130930_36-0\"><a href=\"#cite_note-pa20130930-36\">[30]</a></sup>\n</td>\n<td><a href=\"/wiki/Falcon_9_v1.1\" title=\"Falcon 9 v1.1\">F9 v1.1</a><sup class=\"reference\" id=\"cite_ref-MuskMay2012_13-5\"><a href=\"#cite_note-MuskMay2012-13\">[7]</a></sup><br/>B1003<sup class=\"reference\" id=\"cite_ref-block_numbers_14-5\"><a href=\"#cite_note-block_numbers-14\">[8]</a></sup>\n</td>\n<td><a class=\"mw-redirect\" href=\"/wiki/Vandenberg_Air_Force_Base\" title=\"Vandenberg Air Force Base\">VAFB</a>,<br/><a href=\"/wiki/Vandenberg_Space_Launch_Complex_4\" title=\"Vandenberg Space Launch Complex 4\">SLC-4E</a>\n</td>\n<td><a href=\"/wiki/CASSIOPE\" title=\"CASSIOPE\">CASSIOPE</a><sup class=\"reference\" id=\"cite_ref-sxManifest20120925_28-2\"><a href=\"#cite_note-sxManifest20120925-28\">[22]</a></sup><sup class=\"reference\" id=\"cite_ref-CASSIOPE_MDA_37-0\"><a href=\"#cite_note-CASSIOPE_MDA-37\">[31]</a></sup>\n</td>\n<td>500\u00a0kg (1,100\u00a0lb)\n</td>\n<td><a href=\"/wiki/Polar_orbit\" title=\"Polar orbit\">Polar orbit</a> <a href=\"/wiki/Low_Earth_orbit\" title=\"Low Earth orbit\">LEO</a>\n</td>\n<td><a href=\"/wiki/Maxar_Technologies\" title=\"Maxar Technologies\">MDA</a>\n</td>\n<td class=\"table-success\" style=\"background: LightGreen; color: black; vertical-align: middle; text-align: center;\">Success<sup class=\"reference\" id=\"cite_ref-pa20130930_36-1\"><a href=\"#cite_note-pa20130930-36\">[30]</a></sup>\n</td>\n<td class=\"table-no2\" style=\"background: #ffdddd; color: black; vertical-align: middle; text-align: center;\">Uncontrolled<br/><small>(ocean)</small><sup class=\"reference\" id=\"cite_ref-ocean_landing_38-0\"><a href=\"#cite_note-ocean_landing-38\">[d]</a></sup>\n</td></tr>\n<tr>\n<td colspan=\"9\">First commercial mission with a private customer, first launch from Vandenberg, and demonstration flight of Falcon 9 v1.1 with an improved 13-tonne to LEO capacity.<sup class=\"reference\" id=\"cite_ref-sxf9_20110321_35-1\"><a href=\"#cite_note-sxf9_20110321-35\">[29]</a></sup> After separation from the second stage carrying Canadian commercial and scientific satellites, the first stage booster performed a controlled reentry,<sup class=\"reference\" id=\"cite_ref-39\"><a href=\"#cite_note-39\">[32]</a></sup> and an <a href=\"/wiki/Falcon_9_first-stage_landing_tests\" title=\"Falcon 9 first-stage landing tests\">ocean touchdown test</a> for the first time. This provided good test data, even though the booster started rolling as it neared the ocean, leading to the shutdown of the central engine as the roll depleted it of fuel, resulting in a hard impact with the ocean.<sup class=\"reference\" id=\"cite_ref-pa20130930_36-2\"><a href=\"#cite_note-pa20130930-36\">[30]</a></sup> This was the first known attempt of a rocket engine being lit to perform a supersonic retro propulsion, and allowed SpaceX to enter a public-private partnership with <a href=\"/wiki/NASA\" title=\"NASA\">NASA</a> and its Mars entry, descent, and landing technologies research projects.<sup class=\"reference\" id=\"cite_ref-40\"><a href=\"#cite_note-40\">[33]</a></sup> <small>(<a href=\"#Maiden_flight_of_v1.1\">more details below</a>)</small>\n</td></tr>\n<tr>\n<th rowspan=\"2\" scope=\"row\" style=\"text-align:center;\">7\n</th>\n<td>3 December 2013,<br/>22:41<sup class=\"reference\" id=\"cite_ref-sfn_wwls20130624_41-0\"><a href=\"#cite_note-sfn_wwls20130624-41\">[34]</a></sup>\n</td>\n<td><a href=\"/wiki/Falcon_9_v1.1\" title=\"Falcon 9 v1.1\">F9 v1.1</a><br/>B1004\n</td>\n<td><a href=\"/wiki/Cape_Canaveral_Space_Force_Station\" title=\"Cape Canaveral Space Force Station\">CCAFS</a>,<br/><a href=\"/wiki/Cape_Canaveral_Space_Launch_Complex_40\" title=\"Cape Canaveral Space Launch Complex 40\">SLC-40</a>\n</td>\n<td><a href=\"/wiki/SES-8\" title=\"SES-8\">SES-8</a><sup class=\"reference\" id=\"cite_ref-sxManifest20120925_28-3\"><a href=\"#cite_note-sxManifest20120925-28\">[22]</a></sup><sup class=\"reference\" id=\"cite_ref-spx-pr_42-0\"><a href=\"#cite_note-spx-pr-42\">[35]</a></sup><sup class=\"reference\" id=\"cite_ref-aw20110323_43-0\"><a href=\"#cite_note-aw20110323-43\">[36]</a></sup>\n</td>\n<td>3,170\u00a0kg (6,990\u00a0lb)\n</td>\n<td><a href=\"/wiki/Geostationary_transfer_orbit\" title=\"Geostationary transfer orbit\">GTO</a>\n</td>\n<td><a href=\"/wiki/SES_S.A.\" title=\"SES S.A.\">SES</a>\n</td>\n<td class=\"table-success\" style=\"background: LightGreen; color: black; vertical-align: middle; text-align: center;\">Success<sup class=\"reference\" id=\"cite_ref-SNMissionStatus7_44-0\"><a href=\"#cite_note-SNMissionStatus7-44\">[37]</a></sup>\n</td>\n<td class=\"table-noAttempt\" style=\"background: #ececec; color: black; vertical-align: middle; white-space: nowrap; text-align: center;\">No attempt<br/><sup class=\"reference\" id=\"cite_ref-sf10120131203_45-0\"><a href=\"#cite_note-sf10120131203-45\">[38]</a></sup>\n</td></tr>\n<tr>\n<td colspan=\"9\">First <a href=\"/wiki/Geostationary_transfer_orbit\" title=\"Geostationary transfer orbit\">Geostationary transfer orbit</a> (GTO) launch for Falcon 9,<sup class=\"reference\" id=\"cite_ref-spx-pr_42-1\"><a href=\"#cite_note-spx-pr-42\">[35]</a></sup> and first successful reignition of the second stage.<sup class=\"reference\" id=\"cite_ref-46\"><a href=\"#cite_note-46\">[39]</a></sup> SES-8 was inserted into a <a href=\"/wiki/Geostationary_transfer_orbit\" title=\"Geostationary transfer orbit\">Super-Synchronous Transfer Orbit</a> of 79,341\u00a0km (49,300\u00a0mi) in apogee with an <a href=\"/wiki/Orbital_inclination\" title=\"Orbital inclination\">inclination</a> of 20.55\u00b0 to the <a href=\"/wiki/Equator\" title=\"Equator\">equator</a>.\n</td></tr></tbody></table>\n"
                }
            ],
            "source": "# Let's print the third table and check its content\nfirst_launch_table = html_tables[2]\nprint(first_launch_table)"
        },
        {
            "cell_type": "markdown",
            "metadata": {},
            "source": "You should able to see the columns names embedded in the table header elements `<th>` as follows:\n"
        },
        {
            "cell_type": "markdown",
            "metadata": {},
            "source": "```\n<tr>\n<th scope=\"col\">Flight No.\n</th>\n<th scope=\"col\">Date and<br/>time (<a href=\"/wiki/Coordinated_Universal_Time\" title=\"Coordinated Universal Time\">UTC</a>)\n</th>\n<th scope=\"col\"><a href=\"/wiki/List_of_Falcon_9_first-stage_boosters\" title=\"List of Falcon 9 first-stage boosters\">Version,<br/>Booster</a> <sup class=\"reference\" id=\"cite_ref-booster_11-0\"><a href=\"#cite_note-booster-11\">[b]</a></sup>\n</th>\n<th scope=\"col\">Launch site\n</th>\n<th scope=\"col\">Payload<sup class=\"reference\" id=\"cite_ref-Dragon_12-0\"><a href=\"#cite_note-Dragon-12\">[c]</a></sup>\n</th>\n<th scope=\"col\">Payload mass\n</th>\n<th scope=\"col\">Orbit\n</th>\n<th scope=\"col\">Customer\n</th>\n<th scope=\"col\">Launch<br/>outcome\n</th>\n<th scope=\"col\"><a href=\"/wiki/Falcon_9_first-stage_landing_tests\" title=\"Falcon 9 first-stage landing tests\">Booster<br/>landing</a>\n</th></tr>\n```\n"
        },
        {
            "cell_type": "markdown",
            "metadata": {},
            "source": "Next, we just need to iterate through the `<th>` elements and apply the provided `extract_column_from_header()` to extract column name one by one\n"
        },
        {
            "cell_type": "code",
            "execution_count": 17,
            "metadata": {},
            "outputs": [
                {
                    "name": "stdout",
                    "output_type": "stream",
                    "text": "['Flight No.', 'Date and time ( )', 'Launch site', 'Payload', 'Payload mass', 'Orbit', 'Customer', 'Launch outcome']\n"
                }
            ],
            "source": "column_names = []\nfor row in first_launch_table.find_all('th'):\n    name = extract_column_from_header(row)\n    if name is not None and len(name) > 0:\n        column_names.append(name)\n\nprint(column_names)\n# Apply find_all() function with `th` element on first_launch_table\n# Iterate each th element and apply the provided extract_column_from_header() to get a column name\n# Append the Non-empty column name (`if name is not None and len(name) > 0`) into a list called column_names\n"
        },
        {
            "cell_type": "markdown",
            "metadata": {},
            "source": "Check the extracted column names\n"
        },
        {
            "cell_type": "code",
            "execution_count": 18,
            "metadata": {},
            "outputs": [
                {
                    "name": "stdout",
                    "output_type": "stream",
                    "text": "['Flight No.', 'Date and time ( )', 'Launch site', 'Payload', 'Payload mass', 'Orbit', 'Customer', 'Launch outcome']\n"
                }
            ],
            "source": "print(column_names)"
        },
        {
            "cell_type": "markdown",
            "metadata": {},
            "source": "## TASK 3: Create a data frame by parsing the launch HTML tables\n"
        },
        {
            "cell_type": "markdown",
            "metadata": {},
            "source": "We will create an empty dictionary with keys from the extracted column names in the previous task. Later, this dictionary will be converted into a Pandas dataframe\n"
        },
        {
            "cell_type": "code",
            "execution_count": 54,
            "metadata": {},
            "outputs": [],
            "source": "launch_dict= dict.fromkeys(column_names)\n\n# Remove an irrelvant column\ndel launch_dict['Date and time ( )']\n\n# Let's initial the launch_dict with each value to be an empty list\nlaunch_dict['Flight No.'] = []\nlaunch_dict['Launch site'] = []\nlaunch_dict['Payload'] = []\nlaunch_dict['Payload mass'] = []\nlaunch_dict['Orbit'] = []\nlaunch_dict['Customer'] = []\nlaunch_dict['Launch outcome'] = []\n# Added some new columns\nlaunch_dict['Version Booster']=[]\nlaunch_dict['Booster landing']=[]\nlaunch_dict['Date']=[]\nlaunch_dict['Time']=[]"
        },
        {
            "cell_type": "markdown",
            "metadata": {},
            "source": "Next, we just need to fill up the `launch_dict` with launch records extracted from table rows.\n"
        },
        {
            "cell_type": "markdown",
            "metadata": {},
            "source": "Usually, HTML tables in Wiki pages are likely to contain unexpected annotations and other types of noises, such as reference links `B0004.1[8]`, missing values `N/A [e]`, inconsistent formatting, etc.\n"
        },
        {
            "cell_type": "markdown",
            "metadata": {},
            "source": "To simplify the parsing process, we have provided an incomplete code snippet below to help you to fill up the `launch_dict`. Please complete the following code snippet with TODOs or you can choose to write your own logic to parse all launch tables:\n"
        },
        {
            "cell_type": "code",
            "execution_count": 56,
            "metadata": {},
            "outputs": [
                {
                    "name": "stdout",
                    "output_type": "stream",
                    "text": "1 1\n2 4 June 2010\n3 18:45\n4 F9 v1.0B0003.1\n5 CCAFS\n6 Dragon Spacecraft Qualification Unit\n7 0\n8 LEO\n9 SpaceX\n10 0 Success\n11 Failure\nLOOP DONE! \n\n1 2\n2 8 December 2010\n3 15:43\n4 F9 v1.0B0004.1\n5 CCAFS\n6 Dragon\n7 0\n8 LEO\n9 NASA\n10 1 Success\n11 Failure\nLOOP DONE! \n\n1 3\n2 22 May 2012\n3 07:44\n4 F9 v1.0B0005.1\n5 CCAFS\n6 Dragon\n7 525 kg\n8 LEO\n9 NASA\n10 2 Success\n11 No attempt\nLOOP DONE! \n\n1 4\n2 8 October 2012\n3 00:35\n4 F9 v1.0B0006.1\n5 CCAFS\n6 SpaceX CRS-1\n7 4,700 kg\n8 LEO\n9 NASA\n10 3 Success\n11 No attempt\nLOOP DONE! \n\n1 5\n2 1 March 2013\n3 15:10\n4 F9 v1.0B0007.1\n5 CCAFS\n6 SpaceX CRS-2\n7 4,877 kg\n8 LEO\n9 NASA\n10 4 Success\n11 No attempt\nLOOP DONE! \n\n1 6\n2 29 September 2013\n3 16:00\n4 F9 v1.1B1003\n5 VAFB\n6 CASSIOPE\n7 500 kg\n8 Polar orbit\n9 MDA\n10 5 Success\n11 Uncontrolled\nLOOP DONE! \n\n1 7\n2 3 December 2013\n3 22:41\n4 F9 v1.1\n5 CCAFS\n6 SES-8\n7 3,170 kg\n8 GTO\n9 SES\n10 6 Success\n11 No attempt\nLOOP DONE! \n\n1 8\n2 6 January 2014\n3 22:06\n4 F9 v1.1\n5 CCAFS\n6 Thaicom 6\n7 3,325 kg\n8 GTO\n9 Thaicom\n10 7 Success\n11 No attempt\nLOOP DONE! \n\n1 9\n2 18 April 2014\n3 19:25\n4 F9 v1.1\n5 Cape Canaveral\n6 SpaceX CRS-3\n7 2,296 kg\n8 LEO\n9 NASA\n10 8 Success\n11 Controlled\nLOOP DONE! \n\n1 10\n2 14 July 2014\n3 15:15\n4 F9 v1.1\n5 Cape Canaveral\n6 Orbcomm-OG2\n7 1,316 kg\n8 LEO\n9 Orbcomm\n10 9 Success\n11 Controlled\nLOOP DONE! \n\n1 11\n2 5 August 2014\n3 08:00\n4 F9 v1.1\n5 Cape Canaveral\n6 AsiaSat 8\n7 4,535 kg\n8 GTO\n9 AsiaSat\n10 10 Success\n11 No attempt\nLOOP DONE! \n\n1 12\n2 7 September 2014\n3 05:00\n4 F9 v1.1\n5 Cape Canaveral\n6 AsiaSat 6\n7 4,428 kg\n8 GTO\n9 AsiaSat\n10 11 Success\n11 No attempt\nLOOP DONE! \n\n1 13\n2 21 September 2014\n3 05:52\n4 F9 v1.1\n5 Cape Canaveral\n6 SpaceX CRS-4\n7 2,216 kg\n8 LEO\n9 NASA\n10 12 Success\n11 Uncontrolled\nLOOP DONE! \n\n1 14\n2 10 January 2015\n3 09:47\n4 F9 v1.1\n5 Cape Canaveral\n6 SpaceX CRS-5\n7 2,395 kg\n8 LEO\n9 NASA\n10 13 Success\n11 Failure \nLOOP DONE! \n\n1 15\n2 11 February 2015\n3 23:03\n4 F9 v1.1\n5 Cape Canaveral\n6 DSCOVR\n7 570 kg\n8 HEO\n9 USAF\n10 14 Success\n11 Controlled\nLOOP DONE! \n\n1 16\n2 2 March 2015\n3 03:50\n4 F9 v1.1\n5 Cape Canaveral\n6 ABS-3A\n7 4,159 kg\n8 GTO\n9 ABS\n10 15 Success\n11 No attempt\nLOOP DONE! \n\n1 17\n2 14 April 2015\n3 20:10\n4 F9 v1.1\n5 Cape Canaveral\n6 SpaceX CRS-6\n7 1,898 kg\n8 LEO\n9 NASA\n10 16 Success\n11 Failure\nLOOP DONE! \n\n1 18\n2 27 April 2015\n3 23:03\n4 F9 v1.1\n5 Cape Canaveral\n6 T\u00fcrkmen\u00c4lem 52\u00b0E / MonacoSAT\n7 4,707 kg\n8 GTO\n9 None\n10 17 Success\n11 No attempt\nLOOP DONE! \n\n1 19\n2 28 June 2015\n3 14:21\n4 F9 v1.1\n5 Cape Canaveral\n6 SpaceX CRS-7\n7 1,952 kg\n8 LEO\n9 NASA\n10 18 Failure\n11 Precluded\nLOOP DONE! \n\n1 20\n2 22 December 2015\n3 01:29\n4 F9 FT\n5 Cape Canaveral\n6 Orbcomm-OG2\n7 2,034 kg\n8 LEO\n9 Orbcomm\n10 19 Success\n11 Success\nLOOP DONE! \n\n1 21\n2 17 January 2016\n3 18:42\n4 F9 v1.1\n5 VAFB\n6 Jason-3\n7 553 kg\n8 LEO\n9 NASA\n10 20 Success\n11 Failure\nLOOP DONE! \n\n1 22\n2 4 March 2016\n3 23:35\n4 F9 FT\n5 Cape Canaveral\n6 SES-9\n7 5,271 kg\n8 GTO\n9 SES\n10 21 Success\n11 Failure\nLOOP DONE! \n\n1 23\n2 8 April 2016\n3 20:43\n4 F9 FT\n5 Cape Canaveral\n6 SpaceX CRS-8\n7 3,136 kg\n8 LEO\n9 NASA\n10 22 Success\n11 Success\nLOOP DONE! \n\n1 24\n2 6 May 2016\n3 05:21\n4 F9 FT\n5 Cape Canaveral\n6 JCSAT-14\n7 4,696 kg\n8 GTO\n9 SKY Perfect JSAT Group\n10 23 Success\n11 Success\nLOOP DONE! \n\n1 25\n2 27 May 2016\n3 21:39\n4 F9 FT\n5 Cape Canaveral\n6 Thaicom 8\n7 3,100 kg\n8 GTO\n9 Thaicom\n10 24 Success\n11 Success\nLOOP DONE! \n\n1 26\n2 15 June 2016\n3 14:29\n4 F9 FT\n5 Cape Canaveral\n6 ABS-2A\n7 3,600 kg\n8 GTO\n9 ABS\n10 25 Success\n11 Failure\nLOOP DONE! \n\n1 27\n2 18 July 2016\n3 04:45\n4 F9 FT\n5 Cape Canaveral\n6 SpaceX CRS-9\n7 2,257 kg\n8 LEO\n9 NASA\n10 26 Success\n11 Success\nLOOP DONE! \n\n1 28\n2 14 August 2016\n3 05:26\n4 F9 FT\n5 Cape Canaveral\n6 JCSAT-16\n7 4,600 kg\n8 GTO\n9 SKY Perfect JSAT Group\n10 27 Success\n11 Success\nLOOP DONE! \n\n1 29\n2 14 January 2017\n3 17:54\n4 F9 FT\n5 VAFB\n6 Iridium NEXT\n7 9,600 kg\n8 Polar\n9 Iridium Communications\n10 28 Success\n11 Success\nLOOP DONE! \n\n1 30\n2 19 February 2017\n3 14:39\n4 F9 FT\n5 KSC\n6 SpaceX CRS-10\n7 2,490 kg\n8 LEO\n9 NASA\n10 29 Success\n11 Success\nLOOP DONE! \n\n1 31\n2 16 March 2017\n3 06:00\n4 F9 FT\n5 KSC\n6 EchoStar 23\n7 5,600 kg\n8 GTO\n9 EchoStar\n10 30 Success\n11 No attempt\nLOOP DONE! \n\n1 32\n2 30 March 2017\n3 22:27\n4 F9 FT\u267a\n5 KSC\n6 SES-10\n7 5,300 kg\n8 GTO\n9 SES\n10 31 Success\n11 Success\nLOOP DONE! \n\n1 33\n2 1 May 2017\n3 11:15\n4 F9 FT\n5 KSC\n6 NROL-76\n7 C\n8 LEO\n9 NRO\n10 32 Success\n11 Success\nLOOP DONE! \n\n1 34\n2 15 May 2017\n3 23:21\n4 F9 FT\n5 KSC\n6 Inmarsat-5 F4\n7 6,070 kg\n8 GTO\n9 Inmarsat\n10 33 Success\n11 No attempt\nLOOP DONE! \n\n1 35\n2 3 June 2017\n3 21:07\n4 F9 FT\n5 KSC\n6 SpaceX CRS-11\n7 2,708 kg\n8 LEO\n9 NASA\n10 34 Success\n11 Success\nLOOP DONE! \n\n1 36\n2 23 June 2017\n3 19:10\n4 F9 FTB1029.2\n5 KSC\n6 BulgariaSat-1\n7 3,669 kg\n8 GTO\n9 Bulsatcom\n10 35 Success\n11 Success\nLOOP DONE! \n\n1 37\n2 25 June 2017\n3 20:25\n4 F9 FT\n5 VAFB\n6 Iridium NEXT\n7 9,600 kg\n8 LEO\n9 Iridium Communications\n10 36 Success\n11 Success\nLOOP DONE! \n\n1 38\n2 5 July 2017\n3 23:38\n4 F9 FT\n5 KSC\n6 Intelsat 35e\n7 6,761 kg\n8 GTO\n9 Intelsat\n10 37 Success\n11 No attempt\nLOOP DONE! \n\n1 39\n2 14 August 2017\n3 16:31\n4 F9 B4\n5 KSC\n6 SpaceX CRS-12\n7 3,310 kg\n8 LEO\n9 NASA\n10 38 Success\n11 Success\nLOOP DONE! \n\n1 40\n2 24 August 2017\n3 18:51\n4 F9 FT\n5 VAFB\n6 Formosat-5\n7 475 kg\n8 SSO\n9 NSPO\n10 39 Success\n11 Success\nLOOP DONE! \n\n1 41\n2 7 September 2017\n3 14:00\n4 F9 B4\n5 KSC\n6 Boeing X-37B\n7 4,990 kg\n8 LEO\n9 USAF\n10 40 Success\n11 Success\nLOOP DONE! \n\n1 42\n2 9 October 2017\n3 12:37\n4 F9 B4\n5 VAFB\n6 Iridium NEXT\n7 9,600 kg\n8 Polar\n9 Iridium Communications\n10 41 Success\n11 Success\nLOOP DONE! \n\n1 43\n2 11 October 2017\n3 22:53:00\n4 F9 FTB1031.2\n5 KSC\n6 SES-11\n7 5,200 kg\n8 GTO\n9 SES S.A.\n10 42 Success\n11 Success\nLOOP DONE! \n\n1 44\n2 30 October 2017\n3 19:34\n4 F9 B4\n5 KSC\n6 Koreasat 5A\n7 3,500 kg\n8 GTO\n9 KT Corporation\n10 43 Success\n11 Success\nLOOP DONE! \n\n1 45\n2 15 December 2017\n3 15:36\n4 F9 FTB1035.2\n5 Cape Canaveral\n6 SpaceX CRS-13\n7 2,205 kg\n8 LEO\n9 NASA\n10 44 Success\n11 Success\nLOOP DONE! \n\n1 46\n2 23 December 2017\n3 01:27\n4 F9 FTB1036.2\n5 VAFB\n6 Iridium NEXT\n7 9,600 kg\n8 Polar\n9 Iridium Communications\n10 45 Success\n11 Controlled\nLOOP DONE! \n\n1 47\n2 8 January 2018\n3 01:00\n4 F9 B4\n5 CCAFS\n6 Zuma\n7 C\n8 LEO\n9 Northrop Grumman\n10 46 Success\n11 Success\nLOOP DONE! \n\n1 48\n2 31 January 2018\n3 21:25\n4 F9 FTB1032.2\n5 CCAFS\n6 GovSat-1\n7 4,230 kg\n8 GTO\n9 SES\n10 47 Success\n11 Controlled\nLOOP DONE! \n\n1 49\n2 22 February 2018\n3 14:17\n4 F9 FTB1038.2\n5 VAFB\n6 Paz\n7 2,150 kg\n8 SSO\n9 Hisdesat\n10 48 Success\n11 No attempt\nLOOP DONE! \n\n1 50\n2 6 March 2018\n3 05:33\n4 F9 B4\n5 CCAFS\n6 Hispasat 30W-6\n7 6,092 kg\n8 GTO\n9 Hispasat\n10 49 Success\n11 No attempt\nLOOP DONE! \n\n1 51\n2 30 March 2018\n3 14:14\n4 F9 B4B1041.2\n5 VAFB\n6 Iridium NEXT\n7 9,600 kg\n8 Polar\n9 Iridium Communications\n10 50 Success\n11 No attempt\nLOOP DONE! \n\n1 52\n2 2 April 2018\n3 20:30\n4 F9 B4B1039.2\n5 CCAFS\n6 SpaceX CRS-14\n7 2,647 kg\n8 LEO\n9 NASA\n10 51 Success\n11 No attempt\nLOOP DONE! \n\n1 53\n2 18 April 2018\n3 22:51\n4 F9 B4\n5 CCAFS\n6 Transiting Exoplanet Survey Satellite\n7 362 kg\n8 HEO\n9 NASA\n10 52 Success\n11 Success\nLOOP DONE! \n\n1 54\n2 11 May 2018\n3 20:14\n4 F9 B5B1046.1\n5 KSC\n6 Bangabandhu-1\n7 3,600 kg\n8 GTO\n9 Thales-Alenia\n10 53 Success\n11 Success\nLOOP DONE! \n\n1 55\n2 22 May 2018\n3 19:47\n4 F9 B4B1043.2\n5 VAFB\n6 Iridium NEXT\n7 6,460 kg\n8 Polar\n9 Iridium Communications\n10 54 Success\n11 No attempt\nLOOP DONE! \n\n1 56\n2 4 June 2018\n3 04:45\n4 F9 B4B1040.2\n5 CCAFS\n6 SES-12\n7 5,384 kg\n8 GTO\n9 SES\n10 55 Success\n11 No attempt\nLOOP DONE! \n\n1 57\n2 29 June 2018\n3 09:42\n4 F9 B4B1045.2\n5 CCAFS\n6 SpaceX CRS-15\n7 2,697 kg\n8 LEO\n9 NASA\n10 56 Success\n11 No attempt\nLOOP DONE! \n\n1 58\n2 22 July 2018\n3 05:50\n4 F9 B5\n5 CCAFS\n6 Telstar 19V\n7 7,075 kg\n8 GTO\n9 Telesat\n10 57 Success\n11 Success\nLOOP DONE! \n\n1 59\n2 25 July 2018\n3 11:39\n4 F9 B5B1048\n5 VAFB\n6 Iridium NEXT\n7 9,600 kg\n8 Polar\n9 Iridium Communications\n10 58 Success\n11 Success\nLOOP DONE! \n\n1 60\n2 7 August 2018\n3 05:18\n4 F9 B5B1046.2\n5 CCAFS\n6 Merah Putih\n7 5,800 kg\n8 GTO\n9 Telkom Indonesia\n10 59 Success\n11 Success\nLOOP DONE! \n\n1 61\n2 10 September 2018\n3 04:45\n4 F9 B5\n5 CCAFS\n6 Telstar 18V\n7 7,060 kg\n8 GTO\n9 Telesat\n10 60 Success\n11 Success\nLOOP DONE! \n\n1 62\n2 8 October 2018\n3 02:22\n4 F9 B5B1048.2\n5 VAFB\n6 SAOCOM 1A\n7 3,000 kg\n8 SSO\n9 CONAE\n10 61 Success\n11 Success\nLOOP DONE! \n\n1 63\n2 15 November 2018\n3 20:46\n4 F9 B5B1047.2\n5 KSC\n6 Es'hail 2\n7 5,300 kg\n8 GTO\n9 Es'hailSat\n10 62 Success\n11 Success\nLOOP DONE! \n\n1 64\n2 3 December 2018\n3 18:34:05\n4 F9 B5B1046.3\n5 VAFB\n6 SSO-A\n7 ~4,000 kg\n8 SSO\n9 Spaceflight Industries\n10 63 Success\n11 Success\nLOOP DONE! \n\n1 65\n2 5 December 2018\n3 18:16\n4 F9 B5\n5 CCAFS\n6 SpaceX CRS-16\n7 2,500 kg\n8 LEO\n9 NASA\n10 64 Success\n11 Failure\nLOOP DONE! \n\n1 66\n2 23 December 2018\n3 13:51\n4 F9 B5\n5 CCAFS\n6 GPS III\n7 4,400 kg\n8 MEO\n9 USAF\n10 65 Success\n11 No attempt\nLOOP DONE! \n\n1 67\n2 11 January 2019\n3 15:31\n4 F9 B5B1049.2\n5 VAFB\n6 Iridium NEXT\n7 9,600 kg\n8 Polar\n9 Iridium Communications\n10 66 Success\n11 Success\nLOOP DONE! \n\n1 68\n2 22 February 2019\n3 01:45\n4 F9 B5B1048.3\n5 CCAFS\n6 Nusantara Satu\n7 4,850 kg\n8 GTO\n9 PSN\n10 67 Success\n11 Success\nLOOP DONE! \n\n1 69\n2 2 March 2019\n3 07:49\n4 F9 B5[268]\n5 KSC\n6 Crew Dragon Demo-1\n7 12,055 kg\n8 LEO\n9 NASA\n10 68 Success\n11 Success\nLOOP DONE! \n\n1 70\n2 4 May 2019\n3 06:48\n4 F9 B5\n5 CCAFS\n6 SpaceX CRS-17\n7 2,495 kg\n8 LEO\n9 NASA\n10 69 Success\n11 Success\nLOOP DONE! \n\n1 71\n2 24 May 2019\n3 02:30\n4 F9 B5B1049.3\n5 CCAFS\n6 Starlink\n7 13,620 kg\n8 LEO\n9 SpaceX\n10 70 Success\n11 Success\nLOOP DONE! \n\n1 72\n2 12 June 2019\n3 14:17\n4 F9 B5B1051.2\n5 VAFB\n6 RADARSAT Constellation\n7 4,200 kg\n8 SSO\n9 Canadian Space Agency\n10 71 Success\n11 Success\nLOOP DONE! \n\n1 73\n2 25 July 2019\n3 22:01\n4 F9 B5B1056.2\n5 CCAFS\n6 SpaceX CRS-18\n7 2,268 kg\n8 LEO\n9 NASA\n10 72 Success\n11 Success\nLOOP DONE! \n\n1 74\n2 6 August 2019\n3 23:23\n4 F9 B5B1047.3\n5 CCAFS\n6 AMOS-17\n7 6,500 kg\n8 GTO\n9 Spacecom\n10 73 Success\n11 No attempt\nLOOP DONE! \n\n1 75\n2 11 November 2019\n3 14:56\n4 F9 B5\n5 CCAFS\n6 Starlink\n7 15,600 kg\n8 LEO\n9 SpaceX\n10 74 Success\n11 Success\nLOOP DONE! \n\n1 76\n2 5 December 2019\n3 17:29\n4 F9 B5\n5 CCAFS\n6 SpaceX CRS-19\n7 2,617 kg\n8 LEO\n9 NASA\n10 75 Success\n11 Success\nLOOP DONE! \n\n1 77\n2 17 December 2019\n3 00:10\n4 F9 B5B1056.3\n5 CCAFS\n6 JCSat-18\n7 6,956 kg\n8 GTO\n9 Sky Perfect JSAT\n10 76 Success\n11 Success\nLOOP DONE! \n\n1 78\n2 7 January 2020\n3 02:19:21\n4 F9 B5\n5 CCAFS\n6 Starlink\n7 15,600 kg\n8 LEO\n9 SpaceX\n10 77 Success\n11 Success\nLOOP DONE! \n\n1 79\n2 19 January 2020\n3 15:30\n4 F9 B5\n5 KSC\n6 Crew Dragon in-flight abort test\n7 12,050 kg\n8 Sub-orbital\n9 NASA\n10 78 Success\n11 No attempt\nLOOP DONE! \n\n1 80\n2 29 January 2020\n3 14:07\n4 F9 B5\n5 CCAFS\n6 Starlink\n7 15,600 kg\n8 LEO\n9 SpaceX\n10 79 Success\n11 Success\nLOOP DONE! \n\n1 81\n2 17 February 2020\n3 15:05\n4 F9 B5\n5 CCAFS\n6 Starlink\n7 15,600 kg\n8 LEO\n9 SpaceX\n10 80 Success\n11 Failure\nLOOP DONE! \n\n1 82\n2 7 March 2020\n3 04:50\n4 F9 B5\n5 CCAFS\n6 SpaceX CRS-20\n7 1,977 kg\n8 LEO\n9 NASA\n10 81 Success\n11 Success\nLOOP DONE! \n\n1 83\n2 18 March 2020\n3 12:16\n4 F9 B5\n5 KSC\n6 Starlink\n7 15,600 kg\n8 LEO\n9 SpaceX\n10 82 Success\n11 Failure\nLOOP DONE! \n\n1 84\n2 22 April 2020\n3 19:30\n4 F9 B5\n5 KSC\n6 Starlink\n7 15,600 kg\n8 LEO\n9 SpaceX\n10 83 Success\n11 Success\nLOOP DONE! \n\n1 85\n2 30 May 2020\n3 19:22\n4 F9 B5\n5 KSC\n6 Crew Dragon Demo-2\n7 12,530 kg\n8 LEO\n9 NASA\n10 84 Success\n11 Success\nLOOP DONE! \n\n1 86\n2 4 June 2020\n3 01:25\n4 F9 B5\n5 CCAFS\n6 Starlink\n7 15,600 kg\n8 LEO\n9 SpaceX\n10 85 Success\n11 Success\nLOOP DONE! \n\n1 87\n2 13 June 2020\n3 09:21\n4 F9 B5\n5 CCAFS\n6 Starlink\n7 15,410 kg\n8 LEO\n9 SpaceX\n10 86 Success\n11 Success\nLOOP DONE! \n\n1 88\n2 30 June 2020\n3 20:10:46\n4 F9 B5\n5 CCAFS\n6 GPS III\n7 4,311 kg\n8 MEO\n9 U.S. Space Force\n10 87 Success\n11 Success\nLOOP DONE! \n\n1 89\n2 20 July 2020\n3 21:30\n4 F9 B5B1058.2\n5 CCAFS\n6 ANASIS-II\n7 5,000\u20136,000 kg\n8 GTO\n9 Republic of Korea Army\n10 88 Success\n11 Success\nLOOP DONE! \n\n1 90\n2 7 August 2020\n3 05:12\n4 F9 B5\n5 KSC\n6 Starlink\n7 14,932 kg\n8 LEO\n9 SpaceX\n10 89 Success\n11 Success\nLOOP DONE! \n\n1 91\n2 18 August 2020\n3 14:31\n4 F9 B5B1049.6\n5 CCAFS\n6 Starlink\n7 ~15,440 kg\n8 LEO\n9 SpaceX\n10 90 Success\n11 Success\nLOOP DONE! \n\n1 92\n2 30 August 2020\n3 23:18\n4 F9 B5\n5 CCAFS\n6 SAOCOM 1B\n7 3,130 kg\n8 SSO\n9 CONAE\n10 91 Success\n11 Success\nLOOP DONE! \n\n1 93\n2 3 September 2020\n3 12:46:14\n4 F9 B5B1060.2\n5 KSC\n6 Starlink\n7 15,600 kg\n8 LEO\n9 SpaceX\n10 92 Success\n11 Success\nLOOP DONE! \n\n1 94\n2 6 October 2020\n3 11:29:34\n4 F9 B5B1058.3\n5 KSC\n6 Starlink\n7 15,600 kg\n8 LEO\n9 SpaceX\n10 93 Success\n11 Success\nLOOP DONE! \n\n1 95\n2 18 October 2020\n3 12:25:57\n4 F9 B5B1051.6\n5 KSC\n6 Starlink\n7 15,600 kg\n8 LEO\n9 SpaceX\n10 94 Success\n11 Success\nLOOP DONE! \n\n1 96\n2 24 October 2020\n3 15:31:34\n4 F9 B5\n5 CCAFS\n6 Starlink\n7 15,600 kg\n8 LEO\n9 SpaceX\n10 95 Success\n11 Success\nLOOP DONE! \n\n1 97\n2 5 November 2020\n3 23:24:23\n4 F9 B5\n5 CCAFS\n6 GPS III\n7 4,311 kg\n8 MEO\n9 USSF\n10 96 Success\n11 Success\nLOOP DONE! \n\n1 98\n2 16 November 2020\n3 00:27\n4 F9 B5\n5 KSC\n6 Crew-1\n7 ~12,500 kg\n8 LEO\n9 NASA\n10 97 Success\n11 Success\nLOOP DONE! \n\n1 99\n2 21 November 2020\n3 17:17:08\n4 F9 B5\n5 VAFB\n6 Sentinel-6 Michael Freilich (Jason-CS A)\n7 1,192 kg\n8 LEO\n9 NASA\n10 98 Success\n11 Success\nLOOP DONE! \n\n1 100\n2 25 November 2020\n3 02:13\n4 F9 B5 \u267a\n5 CCAFS\n6 Starlink\n7 15,600 kg\n8 LEO\n9 SpaceX\n10 99 Success\n11 Success\nLOOP DONE! \n\n1 101\n2 6 December 2020\n3 16:17:08\n4 F9 B5 \u267a\n5 KSC\n6 SpaceX CRS-21\n7 2,972 kg\n8 LEO\n9 NASA\n10 100 Success\n11 Success\nLOOP DONE! \n\n1 102\n2 13 December 2020\n3 17:30:00\n4 F9 B5 \u267a\n5 CCSFS\n6 SXM-7\n7 7,000 kg\n8 GTO\n9 Sirius XM\n10 101 Success\n11 Success\nLOOP DONE! \n\n1 103\n2 19 December 2020\n3 14:00:00\n4 F9 B5 \u267a\n5 KSC\n6 NROL-108\n7 C\n8 LEO\n9 NRO\n10 102 Success\n11 Success\nLOOP DONE! \n\n1 104\n2 8 January 2021\n3 02:15\n4 F9 B5\n5 CCSFS\n6 T\u00fcrksat 5A\n7 3,500 kg\n8 GTO\n9 T\u00fcrksat\n10 103 Success\n11 Success\nLOOP DONE! \n\n1 105\n2 20 January 2021\n3 13:02\n4 F9 B5B1051.8\n5 KSC\n6 Starlink\n7 15,600 kg\n8 LEO\n9 SpaceX\n10 104 Success\n11 Success\nLOOP DONE! \n\n1 106\n2 24 January 2021\n3 15:00\n4 F9 B5B1058.5\n5 CCSFS\n6 Transporter-1\n7 ~5,000 kg\n8 SSO\n9 SpaceX\n10 105 Success\n11 Success\nLOOP DONE! \n\n1 107\n2 4 February 2021\n3 06:19\n4 F9 B5 \u267a\n5 CCSFS\n6 Starlink\n7 15,600 kg\n8 LEO\n9 SpaceX\n10 106 Success\n11 Success\nLOOP DONE! \n\n1 108\n2 16 February 2021\n3 03:59:37\n4 F9 B5 \u267a\n5 CCSFS\n6 Starlink\n7 15,600 kg\n8 LEO\n9 SpaceX\n10 107 Success\n11 Failure\nLOOP DONE! \n\n1 109\n2 4 March 2021\n3 08:24\n4 F9 B5 \u267a\n5 KSC\n6 Starlink\n7 15,600 kg\n8 LEO\n9 SpaceX\n10 108 Success\n11 Success\nLOOP DONE! \n\n1 110\n2 11 March 2021\n3 08:13:29\n4 F9 B5 \u267a\n5 CCSFS\n6 Starlink\n7 15,600 kg\n8 LEO\n9 SpaceX\n10 109 Success\n11 Success\nLOOP DONE! \n\n1 111\n2 14 March 2021\n3 10:01\n4 F9 B5 \u267a\n5 KSC\n6 Starlink\n7 15,600 kg\n8 LEO\n9 SpaceX\n10 110 Success\n11 Success\nLOOP DONE! \n\n1 112\n2 24 March 2021\n3 08:28\n4 F9 B5B1060.6\n5 CCSFS\n6 Starlink\n7 15,600 kg\n8 LEO\n9 SpaceX\n10 111 Success\n11 Success\nLOOP DONE! \n\n1 113\n2 7 April 2021\n3 16:34\n4 F9 B5 \u267a\n5 CCSFS\n6 Starlink\n7 15,600 kg\n8 LEO\n9 SpaceX\n10 112 Success\n11 Success\nLOOP DONE! \n\n1 114\n2 23 April 2021\n3 9:49\n4 F9 B5B1061.2\n5 KSC\n6 Crew-2\n7 ~13,000 kg\n8 LEO\n9 NASA\n10 113 Success\n11 Success\nLOOP DONE! \n\n1 115\n2 29 April 2021\n3 03:44\n4 F9 B5B1060.7\n5 CCSFS\n6 Starlink\n7 15,600 kg\n8 LEO\n9 SpaceX\n10 114 Success\n11 Success\nLOOP DONE! \n\n1 116\n2 4 May 2021\n3 19:01\n4 F9 B5B1049.9\n5 KSC\n6 Starlink\n7 15,600 kg\n8 LEO\n9 SpaceX\n10 115 Success\n11 Success\nLOOP DONE! \n\n1 117\n2 9 May 2021\n3 06:42\n4 F9 B5B1051.10\n5 CCSFS\n6 Starlink\n7 15,600 kg\n8 LEO\n9 SpaceX\n10 116 Success\n11 Success\nLOOP DONE! \n\n1 118\n2 15 May 2021\n3 22:56\n4 F9 B5B1058.8\n5 KSC\n6 Starlink\n7 ~14,000 kg\n8 LEO\n9 SpaceX\n10 117 Success\n11 Success\nLOOP DONE! \n\n1 119\n2 26 May 2021\n3 18:59\n4 F9 B5B1063.2\n5 CCSFS\n6 Starlink\n7 15,600 kg\n8 LEO\n9 SpaceX\n10 118 Success\n11 Success\nLOOP DONE! \n\n1 120\n2 3 June 2021\n3 17:29\n4 F9 B5B1067.1\n5 KSC\n6 SpaceX CRS-22\n7 3,328 kg\n8 LEO\n9 NASA\n10 119 Success\n11 Success\nLOOP DONE! \n\n1 121\n2 6 June 2021\n3 04:26\n4 F9 B5\n5 CCSFS\n6 SXM-8\n7 7,000 kg\n8 GTO\n9 Sirius XM\n10 120 Success\n11 Success\nLOOP DONE! \n\n"
                }
            ],
            "source": "extracted_row = 0\ncounter = 0\n#Extract each table \nfor table_number,table in enumerate(soupie.find_all('table',\"wikitable plainrowheaders collapsible\")):\n   # get table row \n    for rows in table.find_all(\"tr\"):\n        #check to see if first table heading is as number corresponding to launch a number \n        if rows.th:\n            if rows.th.string:\n                flight_number=rows.th.string.strip()\n                flag=flight_number.isdigit()\n        else:\n            flag=False\n        #get table element \n        row=rows.find_all('td')\n        #if it is number save cells in a dictonary \n        if flag:\n            extracted_row += 1\n            # Flight Number value\n            # TODO: Append the flight_number into launch_dict with key `Flight No.`\n            launch_dict['Flight No.'].append(flight_number)\n            print(1,flight_number)\n            \n            datatimelist=date_time(row[0])\n            # Date value\n            # TODO: Append the date into launch_dict with key `Date`\n            date = datatimelist[0].strip(',')\n            launch_dict['Date'].append(date)\n            print(2,date)\n            \n            # Time value\n            # TODO: Append the time into launch_dict with key `Time`\n            time = datatimelist[1]\n            launch_dict['Time'].append(flight_number)\n            print(3,time)\n              \n            # Booster version\n            # TODO: Append the bv into launch_dict with key `Version Booster`\n            bv=booster_version(row[1])\n            if not(bv):\n                bv=row[1].a.string\n            launch_dict['Version Booster'].append(bv)\n            print(4,bv)\n            \n            # Launch Site\n            # TODO: Append the bv into launch_dict with key `Launch site`\n            launch_site = row[2].a.string\n            launch_dict['Launch site'].append(launch_site)\n            print(5,launch_site)\n            \n            # Payload\n            # TODO: Append the payload into launch_dict with key `Payload`\n            payload = row[3].a.string\n            launch_dict['Payload'].append(payload)\n            print(6,payload)\n            \n            # Payload Mass\n            # TODO: Append the payload_mass into launch_dict with key `Payload mass`\n            payload_mass = get_mass(row[4])\n            launch_dict['Payload mass'].append(payload_mass)\n            print(7,payload_mass)\n            \n            # Orbit\n            # TODO: Append the orbit into launch_dict with key `Orbit`\n            orbit = row[5].a.string\n            launch_dict['Orbit'].append(orbit)\n            print(8,orbit)\n            \n            # Customer\n            # TODO: Append the customer into launch_dict with key `Customer`\n            \n            if row[6].a is not None:\n                customer = row[6].a.string\n                launch_dict['Customer'].append(customer)\n            else:\n                launch_dict['Customer'].append('None')\n            \n            print(9,customer)\n            \n            # Launch outcome\n            # TODO: Append the launch_outcome into launch_dict with key `Launch outcome`\n            launch_outcome = list(row[7].strings)[0]\n            launch_dict['Launch outcome'].append(launch_outcome)\n            print(10, counter, launch_outcome.replace(\"\\n\",\"\"))\n            counter += 1\n            \n            # Booster landing\n            # TODO: Append the launch_outcome into launch_dict with key `Booster landing`\n            booster_landing = landing_status(row[8])\n            launch_dict['Booster landing'].append(booster_landing)\n            print(11,booster_landing.replace(\"\\n\",\"\"))\n            \n            print(\"LOOP DONE! \\n\")"
        },
        {
            "cell_type": "code",
            "execution_count": 57,
            "metadata": {},
            "outputs": [
                {
                    "name": "stdout",
                    "output_type": "stream",
                    "text": "121 121 121 121 121 121\n"
                }
            ],
            "source": "print(len(launch_dict['Date']),len(launch_dict['Time']),len(launch_dict['Booster landing']),len(launch_dict['Launch outcome']),len( launch_dict['Customer']),len(launch_dict['Orbit']))"
        },
        {
            "cell_type": "markdown",
            "metadata": {},
            "source": "After you have fill in the parsed launch record values into `launch_dict`, you can create a dataframe from it.\n"
        },
        {
            "cell_type": "code",
            "execution_count": 58,
            "metadata": {},
            "outputs": [
                {
                    "data": {
                        "text/html": "<div>\n<style scoped>\n    .dataframe tbody tr th:only-of-type {\n        vertical-align: middle;\n    }\n\n    .dataframe tbody tr th {\n        vertical-align: top;\n    }\n\n    .dataframe thead th {\n        text-align: right;\n    }\n</style>\n<table border=\"1\" class=\"dataframe\">\n  <thead>\n    <tr style=\"text-align: right;\">\n      <th></th>\n      <th>Flight No.</th>\n      <th>Launch site</th>\n      <th>Payload</th>\n      <th>Payload mass</th>\n      <th>Orbit</th>\n      <th>Customer</th>\n      <th>Launch outcome</th>\n      <th>Version Booster</th>\n      <th>Booster landing</th>\n      <th>Date</th>\n      <th>Time</th>\n    </tr>\n  </thead>\n  <tbody>\n    <tr>\n      <th>0</th>\n      <td>1</td>\n      <td>CCAFS</td>\n      <td>Dragon Spacecraft Qualification Unit</td>\n      <td>0</td>\n      <td>LEO</td>\n      <td>SpaceX</td>\n      <td>Success\\n</td>\n      <td>F9 v1.0B0003.1</td>\n      <td>Failure</td>\n      <td>4 June 2010</td>\n      <td>1</td>\n    </tr>\n    <tr>\n      <th>1</th>\n      <td>2</td>\n      <td>CCAFS</td>\n      <td>Dragon</td>\n      <td>0</td>\n      <td>LEO</td>\n      <td>NASA</td>\n      <td>Success</td>\n      <td>F9 v1.0B0004.1</td>\n      <td>Failure</td>\n      <td>8 December 2010</td>\n      <td>2</td>\n    </tr>\n    <tr>\n      <th>2</th>\n      <td>3</td>\n      <td>CCAFS</td>\n      <td>Dragon</td>\n      <td>525 kg</td>\n      <td>LEO</td>\n      <td>NASA</td>\n      <td>Success</td>\n      <td>F9 v1.0B0005.1</td>\n      <td>No attempt\\n</td>\n      <td>22 May 2012</td>\n      <td>3</td>\n    </tr>\n    <tr>\n      <th>3</th>\n      <td>4</td>\n      <td>CCAFS</td>\n      <td>SpaceX CRS-1</td>\n      <td>4,700 kg</td>\n      <td>LEO</td>\n      <td>NASA</td>\n      <td>Success\\n</td>\n      <td>F9 v1.0B0006.1</td>\n      <td>No attempt</td>\n      <td>8 October 2012</td>\n      <td>4</td>\n    </tr>\n    <tr>\n      <th>4</th>\n      <td>5</td>\n      <td>CCAFS</td>\n      <td>SpaceX CRS-2</td>\n      <td>4,877 kg</td>\n      <td>LEO</td>\n      <td>NASA</td>\n      <td>Success\\n</td>\n      <td>F9 v1.0B0007.1</td>\n      <td>No attempt\\n</td>\n      <td>1 March 2013</td>\n      <td>5</td>\n    </tr>\n  </tbody>\n</table>\n</div>",
                        "text/plain": "  Flight No. Launch site                               Payload Payload mass  \\\n0          1       CCAFS  Dragon Spacecraft Qualification Unit            0   \n1          2       CCAFS                                Dragon            0   \n2          3       CCAFS                                Dragon       525 kg   \n3          4       CCAFS                          SpaceX CRS-1     4,700 kg   \n4          5       CCAFS                          SpaceX CRS-2     4,877 kg   \n\n  Orbit Customer Launch outcome Version Booster Booster landing  \\\n0   LEO   SpaceX      Success\\n  F9 v1.0B0003.1         Failure   \n1   LEO     NASA        Success  F9 v1.0B0004.1         Failure   \n2   LEO     NASA        Success  F9 v1.0B0005.1    No attempt\\n   \n3   LEO     NASA      Success\\n  F9 v1.0B0006.1      No attempt   \n4   LEO     NASA      Success\\n  F9 v1.0B0007.1    No attempt\\n   \n\n              Date Time  \n0      4 June 2010    1  \n1  8 December 2010    2  \n2      22 May 2012    3  \n3   8 October 2012    4  \n4     1 March 2013    5  "
                    },
                    "execution_count": 58,
                    "metadata": {},
                    "output_type": "execute_result"
                }
            ],
            "source": "df=pd.DataFrame(launch_dict)\ndf.head()"
        },
        {
            "cell_type": "markdown",
            "metadata": {},
            "source": "We can now export it to a <b>CSV</b> for the next section, but to make the answers consistent and in case you have difficulties finishing this lab.\n\nFollowing labs will be using a provided dataset to make each lab independent.\n"
        },
        {
            "cell_type": "markdown",
            "metadata": {},
            "source": "<code>df.to_csv('spacex_web_scraped.csv', index=False)</code>\n"
        },
        {
            "cell_type": "markdown",
            "metadata": {},
            "source": "## Authors\n"
        },
        {
            "cell_type": "markdown",
            "metadata": {},
            "source": "<a href=\"https://www.linkedin.com/in/yan-luo-96288783/?utm_medium=Exinfluencer&utm_source=Exinfluencer&utm_content=000026UJ&utm_term=10006555&utm_id=NA-SkillsNetwork-Channel-SkillsNetworkCoursesIBMDS0321ENSkillsNetwork26802033-2021-01-01\">Yan Luo</a>\n"
        },
        {
            "cell_type": "markdown",
            "metadata": {},
            "source": "<a href=\"https://www.linkedin.com/in/nayefaboutayoun/?utm_medium=Exinfluencer&utm_source=Exinfluencer&utm_content=000026UJ&utm_term=10006555&utm_id=NA-SkillsNetwork-Channel-SkillsNetworkCoursesIBMDS0321ENSkillsNetwork26802033-2021-01-01\">Nayef Abou Tayoun</a>\n"
        },
        {
            "cell_type": "markdown",
            "metadata": {},
            "source": "## Change Log\n"
        },
        {
            "cell_type": "markdown",
            "metadata": {},
            "source": "| Date (YYYY-MM-DD) | Version | Changed By | Change Description          |\n| ----------------- | ------- | ---------- | --------------------------- |\n| 2021-06-09        | 1.0     | Yan Luo    | Tasks updates               |\n| 2020-11-10        | 1.0     | Nayef      | Created the initial version |\n"
        },
        {
            "cell_type": "markdown",
            "metadata": {},
            "source": "Copyright \u00a9 2021 IBM Corporation. All rights reserved.\n"
        }
    ],
    "metadata": {
        "kernelspec": {
            "display_name": "Python 3.8",
            "language": "python",
            "name": "python3"
        },
        "language_info": {
            "codemirror_mode": {
                "name": "ipython",
                "version": 3
            },
            "file_extension": ".py",
            "mimetype": "text/x-python",
            "name": "python",
            "nbconvert_exporter": "python",
            "pygments_lexer": "ipython3",
            "version": "3.8.12"
        }
    },
    "nbformat": 4,
    "nbformat_minor": 4
}